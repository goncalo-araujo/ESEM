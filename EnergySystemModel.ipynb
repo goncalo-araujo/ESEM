{
 "cells": [
  {
   "cell_type": "code",
   "execution_count": 177,
   "id": "a4c7e848",
   "metadata": {},
   "outputs": [],
   "source": [
    "import streamlit as st\n",
    "import pandas as pd\n",
    "import numpy as np\n",
    "import matplotlib.pyplot as plt\n",
    "import seaborn as sns\n",
    "import plotly.express as px"
   ]
  },
  {
   "cell_type": "code",
   "execution_count": 178,
   "id": "3fe38dbd",
   "metadata": {},
   "outputs": [],
   "source": [
    "ac = pd.read_csv(\"ac_types.csv\")\n",
    "dhw = pd.read_csv(\"dhw_types.csv\")"
   ]
  },
  {
   "cell_type": "code",
   "execution_count": 179,
   "id": "18152658",
   "metadata": {},
   "outputs": [],
   "source": [
    "st.write(\"\"\"\n",
    "# Energy system simulation model for your home\n",
    "\n",
    "This web application calculates a building, home, or room final and primary energies according to the set inputs.\n",
    "\"\"\")\n",
    "st.write(\"---\")"
   ]
  },
  {
   "cell_type": "code",
   "execution_count": 180,
   "id": "6b418c8b",
   "metadata": {},
   "outputs": [],
   "source": [
    "st.header('Please specify the equipments you wish to account for in the model:')\n",
    "\n",
    "options = st.multiselect(\"Electric Equipments:\", [\"TV\", \n",
    "                                                  \"Light Sources\", \n",
    "                                                  \"Computer\", \n",
    "                                                  \"Laptop\", \n",
    "                                                  \"Washing Machine\", \n",
    "                                                  \"Dish Washer\", \n",
    "                                                  \"Fridge\", \n",
    "                                                  \"Microwave\", \n",
    "                                                  \"Oven\", \n",
    "                                                  \"Cooktop\",\n",
    "                                                  \"DHW equipments\",\n",
    "                                                  \"Climatization equipments\"], default=[\"TV\", \n",
    "                                                                                        \"Light Sources\",\n",
    "                                                                                        \"Laptop\",\n",
    "                                                                                        \"Washing Machine\", \n",
    "                                                                                        \"Dish Washer\", \n",
    "                                                                                        \"Fridge\", \n",
    "                                                                                        \"Microwave\", \n",
    "                                                                                        \"Oven\", \n",
    "                                                                                        \"Cooktop\",\n",
    "                                                                                        \"DHW equipments\", \n",
    "                                                                                        \"Climatization equipments\"])\n",
    "\n",
    "st.write(\"---\")"
   ]
  },
  {
   "cell_type": "code",
   "execution_count": 279,
   "id": "002eeabf",
   "metadata": {},
   "outputs": [],
   "source": [
    "if \"Light Sources\" in options:\n",
    "    st.header(\"Light Sources inputs:\")\n",
    "    type_lights = st.multiselect(\"Types of light sources:\", [\"Living Room\", \n",
    "                                                             \"Corridor\", \n",
    "                                                             \"Kitchen\", \n",
    "                                                             \"Bedroom\", \n",
    "                                                             \"Office\", \n",
    "                                                             \"Bathroom\"], default=[\"Living Room\", \n",
    "                                                                                   \"Corridor\", \n",
    "                                                                                   \"Kitchen\", \n",
    "                                                                                   \"Bedroom\", \n",
    "                                                                                   \"Office\", \n",
    "                                                                                   \"Bathroom\"])\n",
    "    lights=np.array([])\n",
    "    if \"Living Room\" in type_lights:\n",
    "        st.subheader(\"Living room lights:\")\n",
    "        n_living_lights = st.number_input(\"Number of light sources in the living room:\", min_value=1, value=4)\n",
    "        p_living_lights = st.number_input(\"Mean living room light source Wattage (W):\", min_value=1, value= 5)\n",
    "        t_living_lights = st.slider(\"Number of hours of light in  the living room per week:\", min_value=0, max_value=168, value=14)\n",
    "        lights = np.append(lights, [n_living_lights, p_living_lights, t_living_lights])\n",
    "    if \"Corridor\" in type_lights:\n",
    "        st.subheader(\"Corridor lights\")\n",
    "        n_corr_lights = st.number_input(\"Number of light sources in the corridor:\", min_value=1, value=4)\n",
    "        p_corr_lights = st.number_input(\"Mean corridor light source Wattage (W):\", min_value=1, value= 6)\n",
    "        t_corr_lights = st.slider(\"Number of hours of light in  the corridor per week:\", min_value=0, max_value=168, value=7)\n",
    "        lights = np.append(lights, [n_corr_lights, p_corr_lights, t_corr_lights])\n",
    "    if \"Kitchen\" in type_lights:\n",
    "        st.subheader(\"Kitchen lights\")\n",
    "        n_kitch_lights = st.number_input(\"Number of light sources in the kitchen:\", min_value=1, value=2)\n",
    "        p_kitch_lights = st.number_input(\"Mean kitchen light source Wattage (W):\", min_value=1, value= 18)\n",
    "        t_kitch_lights = st.slider(\"Number of hours of light in  the kitchen per week:\", min_value=0, max_value=168, value=14)\n",
    "        lights = np.append(lights, [n_kitch_lights, p_kitch_lights, t_kitch_lights])\n",
    "    if \"Bedroom\" in type_lights:\n",
    "        st.subheader(\"Bedroom lights\")\n",
    "        n_bed_lights = st.number_input(\"Number of light sources in the bedrooms:\", min_value=1, value=2)\n",
    "        p_bed_lights = st.number_input(\"Mean bedroom light source Wattage (W):\", min_value=1, value= 10)\n",
    "        t_bed_lights = st.slider(\"Number of hours of light in  the bedrooms per week:\", min_value=0, max_value=168, value= 7)\n",
    "        lights = np.append(lights, [n_bed_lights, p_bed_lights, t_bed_lights])\n",
    "    if \"Office\" in type_lights:\n",
    "        st.subheader(\"Office lights\")\n",
    "        n_office_lights = st.number_input(\"Number of light sources in the offices:\", min_value=1, value=2)\n",
    "        p_office_lights = st.number_input(\"Mean office light source Wattage (W):\", min_value=1, value= 9)\n",
    "        t_office_lights = st.slider(\"Number of hours of light in  the offices per week:\", min_value=0, max_value=168, value= 14)\n",
    "        lights = np.append(lights, [n_office_lights, p_office_lights, t_office_lights])\n",
    "    if \"Bathroom\" in type_lights:\n",
    "        st.subheader(\"Bathroom lights\")\n",
    "        n_bath_lights = st.number_input(\"Number of light sources in the bathroom:\", min_value=1, value=2)\n",
    "        p_bath_lights = st.number_input(\"Mean office light source Wattage (W):\", min_value=1, value= 8)\n",
    "        t_bath_lights = st.slider(\"Number of hours of light in  the bathroom per week:\", min_value=0, max_value=168, value= 14)\n",
    "        lights = np.append(lights, [n_bath_lights, p_bath_lights, t_bath_lights])\n",
    "        \n",
    "    st.write(\"---\")\n",
    "\n",
    "        "
   ]
  },
  {
   "cell_type": "code",
   "execution_count": 183,
   "id": "aac0552a",
   "metadata": {},
   "outputs": [],
   "source": [
    "lights = lights.reshape((int(len(lights)/3), 3))"
   ]
  },
  {
   "cell_type": "code",
   "execution_count": null,
   "id": "235647ee",
   "metadata": {},
   "outputs": [],
   "source": [
    "tv = np.array([])\n",
    "if \"TV\" in options:\n",
    "    st.header(\"TV inputs:\")\n",
    "    n_tv = st.number_input(\"Number of TVs': \", min_value=1, value=2)\n",
    "    p_tv = st.number_input(\"Mean TV Wattage (W):\", min_value=50, value=100)\n",
    "    t_tv = st.slider(\"Number of hours of TV use per week:\", min_value=1, max_value=168, value=14)\n",
    "    st.write(\"---\")\n",
    "    tv = np.append(tv, [n_tv, p_tv, t_tv])\n",
    "    tv = tv.reshape(1, 3)"
   ]
  },
  {
   "cell_type": "code",
   "execution_count": 184,
   "id": "0e440b00",
   "metadata": {},
   "outputs": [],
   "source": [
    "computer = np.array([])\n",
    "if \"Computer\" in options:\n",
    "    st.header(\"Computer inputs:\")\n",
    "    n_computer = st.number_input(\"Number of computers: \", min_value=1, value=1)\n",
    "    p_computer = st.number_input(\"Mean computer Wattage (W):\", min_value=50, value=200)\n",
    "    t_computer = st.slider(\"Number of hours of computer use per week:\", min_value=1, max_value=168, value=30)\n",
    "    st.write(\"---\")\n",
    "    computer = np.append(computer, [n_computer, p_computer, t_computer])\n",
    "    computer = computer.reshape(1, 3)\n"
   ]
  },
  {
   "cell_type": "code",
   "execution_count": 185,
   "id": "858b5d12",
   "metadata": {},
   "outputs": [],
   "source": [
    "laptop=np.array([])\n",
    "if \"Laptop\" in options:\n",
    "    st.header(\"Laptop inputs:\")\n",
    "    n_laptop = st.number_input(\"Number of laptops: \", min_value=1, value=2)\n",
    "    p_laptop = st.number_input(\"Mean laptop Wattage (W):\", min_value=50, value=50)\n",
    "    t_laptop = st.slider(\"Number of hours of laptop use per week:\", min_value=1, max_value=168, value=6)\n",
    "    st.write(\"---\")\n",
    "    laptop = np.append(laptop, [n_laptop, p_laptop, t_laptop])\n",
    "    laptop = laptop.reshape(1, 3)"
   ]
  },
  {
   "cell_type": "code",
   "execution_count": 186,
   "id": "dbfd325c",
   "metadata": {},
   "outputs": [],
   "source": [
    "wash = np.array([])\n",
    "if \"Washing Machine\" in options:\n",
    "    st.header(\"Washing Machine inputs:\")\n",
    "    n_wash = st.number_input(\"Number of washing machines: \", min_value=1, value=1)\n",
    "    p_wash = st.number_input(\"Mean washing machine Wattage (W):\", min_value=50, value=500)\n",
    "    t_wash = st.slider(\"Number of hours of washing machine use per week:\", min_value=1, max_value=168, value=6)\n",
    "    st.write(\"---\")\n",
    "    wash = np.append(wash, [n_wash, p_wash, t_wash])\n",
    "    wash = wash.reshape(1, 3)"
   ]
  },
  {
   "cell_type": "code",
   "execution_count": 187,
   "id": "3c27071c",
   "metadata": {},
   "outputs": [],
   "source": [
    "dish=np.array([])\n",
    "if \"Dish Washer\" in options:\n",
    "    st.header(\"Dish Washer inputs:\")\n",
    "    n_dish = st.number_input(\"Number of dish washers: \", min_value=1, value=1)\n",
    "    p_dish = st.number_input(\"Mean dish washer Wattage (W):\", min_value=50, value=1400)\n",
    "    t_dish = st.slider(\"Number of hours of dish washer use per week:\", min_value=1, max_value=168, value=9)\n",
    "    st.write(\"---\")\n",
    "    dish = np.append(dish, [n_dish, p_dish, t_dish])\n",
    "    dish = dish.reshape(n_dish, 3)"
   ]
  },
  {
   "cell_type": "code",
   "execution_count": 188,
   "id": "a03002b4",
   "metadata": {},
   "outputs": [],
   "source": [
    "fridge=np.array([])\n",
    "if \"Fridge\" in options:\n",
    "    st.header(\"Fridge inputs:\")\n",
    "    n_fridge = st.number_input(\"Number of fridges: \", min_value=1, value=1)\n",
    "    p_fridge = st.number_input(\"Mean fridge Wattage (W):\", min_value=50, value=400)\n",
    "    t_fridge = 168\n",
    "    st.write(\"---\")\n",
    "    fridge = np.append(fridge, [n_fridge, p_fridge, t_fridge])\n",
    "    fridge = fridge.reshape(1, 3)"
   ]
  },
  {
   "cell_type": "code",
   "execution_count": 189,
   "id": "901977e5",
   "metadata": {},
   "outputs": [],
   "source": [
    "microwave = np.array([])\n",
    "if \"Microwave\" in options:\n",
    "    st.header(\"Microwave inputs:\")\n",
    "    n_micro = st.number_input(\"Number of microwaves: \", min_value=1, value=1)\n",
    "    p_micro = st.number_input(\"Mean microwave Wattage (W):\", min_value=50, value=750)\n",
    "    t_micro = st.slider(\"Number of hours of microwaver use per week:\", min_value=1, max_value=168, value=1)\n",
    "    st.write(\"---\")\n",
    "    microwave = np.append(microwave, [n_micro, p_micro, t_micro])\n",
    "    microwave = microwave.reshape(n_micro, 3)"
   ]
  },
  {
   "cell_type": "code",
   "execution_count": 190,
   "id": "47c46ad4",
   "metadata": {},
   "outputs": [],
   "source": [
    "oven=np.array([])\n",
    "if \"Oven\" in options:\n",
    "    st.header(\"Oven inputs:\")\n",
    "    n_oven = st.number_input(\"Number of ovens: \", min_value=1, value=1)\n",
    "    p_oven = st.number_input(\"Mean oven Wattage (W):\", min_value=50, value=3000)\n",
    "    t_oven = st.slider(\"Number of hours of oven use per week:\", min_value=1, max_value=168, value=3)\n",
    "    st.write(\"---\")\n",
    "    oven = np.append(oven, [n_oven, p_oven, t_oven])\n",
    "    oven = oven.reshape(1, 3)"
   ]
  },
  {
   "cell_type": "code",
   "execution_count": 191,
   "id": "fe2a0972",
   "metadata": {},
   "outputs": [],
   "source": [
    "cooktop=np.array([])\n",
    "if \"Cooktop\" in options:\n",
    "    st.header(\"Cooktop inputs:\")\n",
    "    n_cook = st.number_input(\"Number of Cooktops: \", min_value=1, value=1)\n",
    "    p_cook = st.number_input(\"Mean Cooktop Wattage (W):\", min_value=50, value=1500)\n",
    "    t_cook = st.slider(\"Number of hours of Cooktop use per week:\", min_value=1, max_value=168, value=6)\n",
    "    st.write(\"---\")\n",
    "    cooktop = np.append(cooktop, [n_cook, p_cook, t_cook])\n",
    "    cooktop = cooktop.reshape(1, 3)"
   ]
  },
  {
   "cell_type": "code",
   "execution_count": 192,
   "id": "98514d34",
   "metadata": {},
   "outputs": [],
   "source": [
    "dhw.index = dhw[\"0\"]"
   ]
  },
  {
   "cell_type": "code",
   "execution_count": 193,
   "id": "11fc93a5",
   "metadata": {},
   "outputs": [],
   "source": [
    "dhw_t=np.array([])\n",
    "if \"DHW equipments\" in options:\n",
    "    st.header(\"DHW equipments inputs:\")\n",
    "    type_dhw = st.selectbox(\"Type of DHW equipment\", dhw[\"0\"], index=5)\n",
    "    n_dhw = st.number_input(\"Number of DHW equipments: \", min_value=1, value=1)\n",
    "    p_dhw = st.number_input(\"DHW equipment Wattage (W):\", min_value=50, value=dhw[\"1\"].loc[type_dhw])\n",
    "    t_dhw = st.slider(\"Number of hours of hot water use per week:\", min_value=1, max_value=168, value=28)\n",
    "    st.write(\"---\")\n",
    "    dhw_t = np.append(dhw_t, [n_dhw, p_dhw, t_dhw])\n",
    "    dhw_t = dhw_t.reshape(1, 3)"
   ]
  },
  {
   "cell_type": "code",
   "execution_count": 194,
   "id": "5c412f83",
   "metadata": {},
   "outputs": [],
   "source": [
    "ac.index = ac[\"0\"]"
   ]
  },
  {
   "cell_type": "code",
   "execution_count": 203,
   "id": "da3a2e00",
   "metadata": {},
   "outputs": [],
   "source": [
    "ac_equips=np.array([])\n",
    "if \"Climatization equipments\" in options:\n",
    "    st.header(\"Climatization equipments inputs:\")\n",
    "    type_ac = st.multiselect(\"Type of Climatization equipment\", ac[\"0\"].values, default=[\"Split\"])\n",
    "    \n",
    "    \n",
    "    if \"Portable AC\" in type_ac:\n",
    "        n_porac = st.number_input(\"Number of Portable AC equipments: \", min_value=1, value=1)\n",
    "        p_porac = st.number_input(\"Portable AC equipment Wattage (W):\", min_value=50, value=ac[\"1\"].iloc[0])\n",
    "        t_porac = st.slider(\"Number of hours of hot water use per week:\", min_value=1, max_value=168, value=7)\n",
    "        ac_equips = np.append(ac_equips, [n_porac, p_porac, t_porac])\n",
    "    \n",
    "    if \"Heater\" in type_ac:\n",
    "        n_heat = st.number_input(\"Number of heater equipments: \", min_value=1, value=1)\n",
    "        p_heat = st.number_input(\"Heater equipment Wattage (W):\", min_value=50, value=ac[\"1\"].iloc[1])\n",
    "        t_heat = st.slider(\"Number of hours of heater use per week:\", min_value=1, max_value=168, value=0)\n",
    "        ac_equips = np.append(ac_equips, [n_heat, p_heat, t_heat])\n",
    "    \n",
    "    if \"Multi-Split\" in type_ac:\n",
    "        n_multi = st.number_input(\"Number of multi-split equipments: \", min_value=1, value=1)\n",
    "        p_multi = st.number_input(\"Multi-split equipment Wattage (W):\", min_value=50, value=ac[\"1\"].iloc[2])\n",
    "        t_multi = st.slider(\"Number of hours of multi-split use per week:\", min_value=1, max_value=168, value=4)\n",
    "        ac_equips = np.append(ac_equips, [n_multi, p_multi, t_multi])\n",
    "        \n",
    "    if \"Radiators\" in type_ac:\n",
    "        n_radi = st.number_input(\"Number of radiator equipments: \", min_value=1, value=1)\n",
    "        p_radi = st.number_input(\"Radiator equipment Wattage (W):\", min_value=50, value=ac[\"1\"].iloc[3])\n",
    "        t_radi = st.slider(\"Number of hours of radiator use per week:\", min_value=1, max_value=168, value=4)\n",
    "        ac_equips = np.append(ac_equips, [n_radi, p_radi, t_radi])\n",
    "    \n",
    "    if \"Split\" in type_ac:\n",
    "        n_split = st.number_input(\"Number of split equipments: \", min_value=1, value=1)\n",
    "        p_split = st.number_input(\"Split equipment Wattage (W):\", min_value=50, value=ac[\"1\"].iloc[4])\n",
    "        t_split = st.slider(\"Number of hours of split equipment use per week:\", min_value=1, max_value=168, value=2)\n",
    "        ac_equips = np.append(ac_equips, [n_split, p_split, t_split])\n",
    "    \n",
    "    if \"Fan\" in type_ac:\n",
    "        n_fan = st.number_input(\"Number of fan equipments: \", min_value=1, value=1)\n",
    "        p_fan = st.number_input(\"Fan equipment Wattage (W):\", min_value=50, value=ac[\"1\"].iloc[5])\n",
    "        t_fan = st.slider(\"Number of hours of fan equipment use per week:\", min_value=1, max_value=168, value=6)\n",
    "        ac_equips = np.append(ac_equips, [n_fan, p_fan, t_fan])\n",
    "        st.write(\"---\")"
   ]
  },
  {
   "cell_type": "code",
   "execution_count": 210,
   "id": "8eb30d9f",
   "metadata": {},
   "outputs": [],
   "source": [
    "ac_equips = ac_equips.reshape((int(len(ac_equips)/3), 3))"
   ]
  },
  {
   "cell_type": "code",
   "execution_count": 197,
   "id": "e7869a8c",
   "metadata": {},
   "outputs": [],
   "source": [
    "equips_total = [tv, lights, laptop, computer, wash, dish, fridge, microwave, oven, cooktop, dhw_t, ac_equips]"
   ]
  },
  {
   "cell_type": "code",
   "execution_count": 199,
   "id": "5fb98bc7",
   "metadata": {},
   "outputs": [],
   "source": [
    "final_arr = np.array([])\n",
    "for i in equips_total:\n",
    "    if i.shape[0] >= 1:\n",
    "        final_arr = np.append(final_arr, i)"
   ]
  },
  {
   "cell_type": "code",
   "execution_count": 200,
   "id": "6ce41fcd",
   "metadata": {},
   "outputs": [],
   "source": [
    "final_df = pd.DataFrame(final_arr.reshape(int(len(final_arr)/3), 3))\n",
    "#final_df.columns = [\"Number of units\", \"Wattage (W)\", \"Weekly use (hours)\"]"
   ]
  },
  {
   "cell_type": "code",
   "execution_count": 201,
   "id": "5a92f234",
   "metadata": {},
   "outputs": [],
   "source": [
    "final_df[\"Final Energy (W)\"] = final_df[0]*final_df[1]*final_df[2]"
   ]
  },
  {
   "cell_type": "code",
   "execution_count": 211,
   "id": "150d2327",
   "metadata": {},
   "outputs": [
    {
     "data": {
      "text/plain": [
       "DeltaGenerator(_root_container=0, _provided_cursor=None, _parent=None, _block_type=None, _form_data=None)"
      ]
     },
     "execution_count": 211,
     "metadata": {},
     "output_type": "execute_result"
    }
   ],
   "source": [
    "st.title(\"Final Energy (kWh)\")\n",
    "st.metric(\"\", str(round(final_df[\"Final Energy (W)\"].sum()/1000)) + \" kWh\")\n",
    "st.write(\"---\")"
   ]
  },
  {
   "cell_type": "code",
   "execution_count": 263,
   "id": "47298829",
   "metadata": {},
   "outputs": [],
   "source": [
    "st.title(\"Primary Energy (kWh)\")\n",
    "st.header(\"Energy conversion\")\n",
    "nat_gas = st.checkbox(\"Natural Gas plant\", value=True)\n",
    "renew = st.checkbox(\"Renewables\", value=True)\n",
    "coal = st.checkbox(\"Coal power plant\")\n",
    "biomass = st.checkbox(\"Biomass power plant\")\n",
    "st.write(\"---\")"
   ]
  },
  {
   "cell_type": "code",
   "execution_count": 264,
   "id": "ce7a3653",
   "metadata": {},
   "outputs": [],
   "source": [
    "nat_gas_primary = []\n",
    "renew_primary = []\n",
    "coal_primary = []\n",
    "biomass_primary = []\n",
    "if nat_gas:\n",
    "    st.subheader(\"Natural Gas Plant\")\n",
    "    percent_gen = st.slider(\"Natural Gas plant ratio of generation (%)\", min_value=0, max_value=100, value=50)\n",
    "    efficiency = st.slider(\"Natural Gas plant Efficiency (%)\", min_value=0, max_value=100, value=50)\n",
    "    nat_gas_primary = np.append(nat_gas_primary, percent_gen*round(final_df[\"Final Energy (W)\"].sum()/1000)/efficiency)\n",
    "\n",
    "if renew:\n",
    "    st.subheader(\"Renewables\")\n",
    "    percent_gen_renew = st.slider(\"Renewables ratio of generation (%)\", min_value=0, max_value=100, value=50)\n",
    "    efficiency_renew = st.slider(\"Renewables efficiency (%)\", min_value=0, max_value=100, value=100)\n",
    "    renew_primary = np.append(renew_primary, percent_gen_renew*round(final_df[\"Final Energy (W)\"].sum()/1000)/efficiency_renew)\n",
    "    \n",
    "if coal:\n",
    "    st.subheader(\"Coal power plant\")\n",
    "    percent_gen_coal = st.slider(\"Coal power plant ratio of generation (%)\", min_value=0, max_value=100, value=50)\n",
    "    efficiency_coal = st.slider(\"Coal power plant efficiency (%)\", min_value=0, max_value=100, value=100)\n",
    "    coal_primary = np.append(coal_primary, percent_gen_coal*round(final_df[\"Final Energy (W)\"].sum()/1000)/efficiency_coal)\n",
    "\n",
    "if biomass:\n",
    "    st.subheader(\"Biomass power plant\")\n",
    "    percent_gen_biomass = st.slider(\"Biomass power plant ratio of generation (%)\", min_value=0, max_value=100, value=50)\n",
    "    efficiency_biomass = st.slider(\"Biomass power plant efficiency (%)\", min_value=0, max_value=100, value=100)\n",
    "    biomass_primary = np.append(biomass_primary, percent_gen_biomass*round(final_df[\"Final Energy (W)\"].sum()/1000)/efficiency_biomass)\n",
    "    "
   ]
  },
  {
   "cell_type": "code",
   "execution_count": 266,
   "id": "a03c6208",
   "metadata": {},
   "outputs": [],
   "source": [
    "bar_df = pd.DataFrame([nat_gas_primary, renew_primary, coal_primary, biomass_primary])\n",
    "bar_df.columns=[\"Primary Energy (kWh)\"]\n",
    "bar_df.index = [\"Natural Gas plant\", \"Renewables\", \"Coal power plant\", \"Biomass power plant\"]"
   ]
  },
  {
   "cell_type": "code",
   "execution_count": 270,
   "id": "ba8093f4",
   "metadata": {
    "scrolled": true
   },
   "outputs": [
    {
     "data": {
      "application/vnd.plotly.v1+json": {
       "config": {
        "plotlyServerURL": "https://plotly.com"
       },
       "data": [
        {
         "alignmentgroup": "True",
         "hovertemplate": "x=%{x}<br>Primary Energy (kWh)=%{marker.color}<extra></extra>",
         "legendgroup": "",
         "marker": {
          "color": [
           178,
           89
          ],
          "coloraxis": "coloraxis",
          "pattern": {
           "shape": ""
          }
         },
         "name": "",
         "offsetgroup": "",
         "orientation": "v",
         "showlegend": false,
         "textposition": "auto",
         "type": "bar",
         "x": [
          "Natural Gas plant",
          "Renewables"
         ],
         "xaxis": "x",
         "y": [
          178,
          89
         ],
         "yaxis": "y"
        }
       ],
       "layout": {
        "barmode": "relative",
        "coloraxis": {
         "colorbar": {
          "title": {
           "text": "Primary Energy (kWh)"
          }
         },
         "colorscale": [
          [
           0,
           "#0d0887"
          ],
          [
           0.1111111111111111,
           "#46039f"
          ],
          [
           0.2222222222222222,
           "#7201a8"
          ],
          [
           0.3333333333333333,
           "#9c179e"
          ],
          [
           0.4444444444444444,
           "#bd3786"
          ],
          [
           0.5555555555555556,
           "#d8576b"
          ],
          [
           0.6666666666666666,
           "#ed7953"
          ],
          [
           0.7777777777777778,
           "#fb9f3a"
          ],
          [
           0.8888888888888888,
           "#fdca26"
          ],
          [
           1,
           "#f0f921"
          ]
         ]
        },
        "legend": {
         "tracegroupgap": 0
        },
        "margin": {
         "t": 60
        },
        "template": {
         "data": {
          "bar": [
           {
            "error_x": {
             "color": "#2a3f5f"
            },
            "error_y": {
             "color": "#2a3f5f"
            },
            "marker": {
             "line": {
              "color": "#E5ECF6",
              "width": 0.5
             },
             "pattern": {
              "fillmode": "overlay",
              "size": 10,
              "solidity": 0.2
             }
            },
            "type": "bar"
           }
          ],
          "barpolar": [
           {
            "marker": {
             "line": {
              "color": "#E5ECF6",
              "width": 0.5
             },
             "pattern": {
              "fillmode": "overlay",
              "size": 10,
              "solidity": 0.2
             }
            },
            "type": "barpolar"
           }
          ],
          "carpet": [
           {
            "aaxis": {
             "endlinecolor": "#2a3f5f",
             "gridcolor": "white",
             "linecolor": "white",
             "minorgridcolor": "white",
             "startlinecolor": "#2a3f5f"
            },
            "baxis": {
             "endlinecolor": "#2a3f5f",
             "gridcolor": "white",
             "linecolor": "white",
             "minorgridcolor": "white",
             "startlinecolor": "#2a3f5f"
            },
            "type": "carpet"
           }
          ],
          "choropleth": [
           {
            "colorbar": {
             "outlinewidth": 0,
             "ticks": ""
            },
            "type": "choropleth"
           }
          ],
          "contour": [
           {
            "colorbar": {
             "outlinewidth": 0,
             "ticks": ""
            },
            "colorscale": [
             [
              0,
              "#0d0887"
             ],
             [
              0.1111111111111111,
              "#46039f"
             ],
             [
              0.2222222222222222,
              "#7201a8"
             ],
             [
              0.3333333333333333,
              "#9c179e"
             ],
             [
              0.4444444444444444,
              "#bd3786"
             ],
             [
              0.5555555555555556,
              "#d8576b"
             ],
             [
              0.6666666666666666,
              "#ed7953"
             ],
             [
              0.7777777777777778,
              "#fb9f3a"
             ],
             [
              0.8888888888888888,
              "#fdca26"
             ],
             [
              1,
              "#f0f921"
             ]
            ],
            "type": "contour"
           }
          ],
          "contourcarpet": [
           {
            "colorbar": {
             "outlinewidth": 0,
             "ticks": ""
            },
            "type": "contourcarpet"
           }
          ],
          "heatmap": [
           {
            "colorbar": {
             "outlinewidth": 0,
             "ticks": ""
            },
            "colorscale": [
             [
              0,
              "#0d0887"
             ],
             [
              0.1111111111111111,
              "#46039f"
             ],
             [
              0.2222222222222222,
              "#7201a8"
             ],
             [
              0.3333333333333333,
              "#9c179e"
             ],
             [
              0.4444444444444444,
              "#bd3786"
             ],
             [
              0.5555555555555556,
              "#d8576b"
             ],
             [
              0.6666666666666666,
              "#ed7953"
             ],
             [
              0.7777777777777778,
              "#fb9f3a"
             ],
             [
              0.8888888888888888,
              "#fdca26"
             ],
             [
              1,
              "#f0f921"
             ]
            ],
            "type": "heatmap"
           }
          ],
          "heatmapgl": [
           {
            "colorbar": {
             "outlinewidth": 0,
             "ticks": ""
            },
            "colorscale": [
             [
              0,
              "#0d0887"
             ],
             [
              0.1111111111111111,
              "#46039f"
             ],
             [
              0.2222222222222222,
              "#7201a8"
             ],
             [
              0.3333333333333333,
              "#9c179e"
             ],
             [
              0.4444444444444444,
              "#bd3786"
             ],
             [
              0.5555555555555556,
              "#d8576b"
             ],
             [
              0.6666666666666666,
              "#ed7953"
             ],
             [
              0.7777777777777778,
              "#fb9f3a"
             ],
             [
              0.8888888888888888,
              "#fdca26"
             ],
             [
              1,
              "#f0f921"
             ]
            ],
            "type": "heatmapgl"
           }
          ],
          "histogram": [
           {
            "marker": {
             "pattern": {
              "fillmode": "overlay",
              "size": 10,
              "solidity": 0.2
             }
            },
            "type": "histogram"
           }
          ],
          "histogram2d": [
           {
            "colorbar": {
             "outlinewidth": 0,
             "ticks": ""
            },
            "colorscale": [
             [
              0,
              "#0d0887"
             ],
             [
              0.1111111111111111,
              "#46039f"
             ],
             [
              0.2222222222222222,
              "#7201a8"
             ],
             [
              0.3333333333333333,
              "#9c179e"
             ],
             [
              0.4444444444444444,
              "#bd3786"
             ],
             [
              0.5555555555555556,
              "#d8576b"
             ],
             [
              0.6666666666666666,
              "#ed7953"
             ],
             [
              0.7777777777777778,
              "#fb9f3a"
             ],
             [
              0.8888888888888888,
              "#fdca26"
             ],
             [
              1,
              "#f0f921"
             ]
            ],
            "type": "histogram2d"
           }
          ],
          "histogram2dcontour": [
           {
            "colorbar": {
             "outlinewidth": 0,
             "ticks": ""
            },
            "colorscale": [
             [
              0,
              "#0d0887"
             ],
             [
              0.1111111111111111,
              "#46039f"
             ],
             [
              0.2222222222222222,
              "#7201a8"
             ],
             [
              0.3333333333333333,
              "#9c179e"
             ],
             [
              0.4444444444444444,
              "#bd3786"
             ],
             [
              0.5555555555555556,
              "#d8576b"
             ],
             [
              0.6666666666666666,
              "#ed7953"
             ],
             [
              0.7777777777777778,
              "#fb9f3a"
             ],
             [
              0.8888888888888888,
              "#fdca26"
             ],
             [
              1,
              "#f0f921"
             ]
            ],
            "type": "histogram2dcontour"
           }
          ],
          "mesh3d": [
           {
            "colorbar": {
             "outlinewidth": 0,
             "ticks": ""
            },
            "type": "mesh3d"
           }
          ],
          "parcoords": [
           {
            "line": {
             "colorbar": {
              "outlinewidth": 0,
              "ticks": ""
             }
            },
            "type": "parcoords"
           }
          ],
          "pie": [
           {
            "automargin": true,
            "type": "pie"
           }
          ],
          "scatter": [
           {
            "fillpattern": {
             "fillmode": "overlay",
             "size": 10,
             "solidity": 0.2
            },
            "type": "scatter"
           }
          ],
          "scatter3d": [
           {
            "line": {
             "colorbar": {
              "outlinewidth": 0,
              "ticks": ""
             }
            },
            "marker": {
             "colorbar": {
              "outlinewidth": 0,
              "ticks": ""
             }
            },
            "type": "scatter3d"
           }
          ],
          "scattercarpet": [
           {
            "marker": {
             "colorbar": {
              "outlinewidth": 0,
              "ticks": ""
             }
            },
            "type": "scattercarpet"
           }
          ],
          "scattergeo": [
           {
            "marker": {
             "colorbar": {
              "outlinewidth": 0,
              "ticks": ""
             }
            },
            "type": "scattergeo"
           }
          ],
          "scattergl": [
           {
            "marker": {
             "colorbar": {
              "outlinewidth": 0,
              "ticks": ""
             }
            },
            "type": "scattergl"
           }
          ],
          "scattermapbox": [
           {
            "marker": {
             "colorbar": {
              "outlinewidth": 0,
              "ticks": ""
             }
            },
            "type": "scattermapbox"
           }
          ],
          "scatterpolar": [
           {
            "marker": {
             "colorbar": {
              "outlinewidth": 0,
              "ticks": ""
             }
            },
            "type": "scatterpolar"
           }
          ],
          "scatterpolargl": [
           {
            "marker": {
             "colorbar": {
              "outlinewidth": 0,
              "ticks": ""
             }
            },
            "type": "scatterpolargl"
           }
          ],
          "scatterternary": [
           {
            "marker": {
             "colorbar": {
              "outlinewidth": 0,
              "ticks": ""
             }
            },
            "type": "scatterternary"
           }
          ],
          "surface": [
           {
            "colorbar": {
             "outlinewidth": 0,
             "ticks": ""
            },
            "colorscale": [
             [
              0,
              "#0d0887"
             ],
             [
              0.1111111111111111,
              "#46039f"
             ],
             [
              0.2222222222222222,
              "#7201a8"
             ],
             [
              0.3333333333333333,
              "#9c179e"
             ],
             [
              0.4444444444444444,
              "#bd3786"
             ],
             [
              0.5555555555555556,
              "#d8576b"
             ],
             [
              0.6666666666666666,
              "#ed7953"
             ],
             [
              0.7777777777777778,
              "#fb9f3a"
             ],
             [
              0.8888888888888888,
              "#fdca26"
             ],
             [
              1,
              "#f0f921"
             ]
            ],
            "type": "surface"
           }
          ],
          "table": [
           {
            "cells": {
             "fill": {
              "color": "#EBF0F8"
             },
             "line": {
              "color": "white"
             }
            },
            "header": {
             "fill": {
              "color": "#C8D4E3"
             },
             "line": {
              "color": "white"
             }
            },
            "type": "table"
           }
          ]
         },
         "layout": {
          "annotationdefaults": {
           "arrowcolor": "#2a3f5f",
           "arrowhead": 0,
           "arrowwidth": 1
          },
          "autotypenumbers": "strict",
          "coloraxis": {
           "colorbar": {
            "outlinewidth": 0,
            "ticks": ""
           }
          },
          "colorscale": {
           "diverging": [
            [
             0,
             "#8e0152"
            ],
            [
             0.1,
             "#c51b7d"
            ],
            [
             0.2,
             "#de77ae"
            ],
            [
             0.3,
             "#f1b6da"
            ],
            [
             0.4,
             "#fde0ef"
            ],
            [
             0.5,
             "#f7f7f7"
            ],
            [
             0.6,
             "#e6f5d0"
            ],
            [
             0.7,
             "#b8e186"
            ],
            [
             0.8,
             "#7fbc41"
            ],
            [
             0.9,
             "#4d9221"
            ],
            [
             1,
             "#276419"
            ]
           ],
           "sequential": [
            [
             0,
             "#0d0887"
            ],
            [
             0.1111111111111111,
             "#46039f"
            ],
            [
             0.2222222222222222,
             "#7201a8"
            ],
            [
             0.3333333333333333,
             "#9c179e"
            ],
            [
             0.4444444444444444,
             "#bd3786"
            ],
            [
             0.5555555555555556,
             "#d8576b"
            ],
            [
             0.6666666666666666,
             "#ed7953"
            ],
            [
             0.7777777777777778,
             "#fb9f3a"
            ],
            [
             0.8888888888888888,
             "#fdca26"
            ],
            [
             1,
             "#f0f921"
            ]
           ],
           "sequentialminus": [
            [
             0,
             "#0d0887"
            ],
            [
             0.1111111111111111,
             "#46039f"
            ],
            [
             0.2222222222222222,
             "#7201a8"
            ],
            [
             0.3333333333333333,
             "#9c179e"
            ],
            [
             0.4444444444444444,
             "#bd3786"
            ],
            [
             0.5555555555555556,
             "#d8576b"
            ],
            [
             0.6666666666666666,
             "#ed7953"
            ],
            [
             0.7777777777777778,
             "#fb9f3a"
            ],
            [
             0.8888888888888888,
             "#fdca26"
            ],
            [
             1,
             "#f0f921"
            ]
           ]
          },
          "colorway": [
           "#636efa",
           "#EF553B",
           "#00cc96",
           "#ab63fa",
           "#FFA15A",
           "#19d3f3",
           "#FF6692",
           "#B6E880",
           "#FF97FF",
           "#FECB52"
          ],
          "font": {
           "color": "#2a3f5f"
          },
          "geo": {
           "bgcolor": "white",
           "lakecolor": "white",
           "landcolor": "#E5ECF6",
           "showlakes": true,
           "showland": true,
           "subunitcolor": "white"
          },
          "hoverlabel": {
           "align": "left"
          },
          "hovermode": "closest",
          "mapbox": {
           "style": "light"
          },
          "paper_bgcolor": "white",
          "plot_bgcolor": "#E5ECF6",
          "polar": {
           "angularaxis": {
            "gridcolor": "white",
            "linecolor": "white",
            "ticks": ""
           },
           "bgcolor": "#E5ECF6",
           "radialaxis": {
            "gridcolor": "white",
            "linecolor": "white",
            "ticks": ""
           }
          },
          "scene": {
           "xaxis": {
            "backgroundcolor": "#E5ECF6",
            "gridcolor": "white",
            "gridwidth": 2,
            "linecolor": "white",
            "showbackground": true,
            "ticks": "",
            "zerolinecolor": "white"
           },
           "yaxis": {
            "backgroundcolor": "#E5ECF6",
            "gridcolor": "white",
            "gridwidth": 2,
            "linecolor": "white",
            "showbackground": true,
            "ticks": "",
            "zerolinecolor": "white"
           },
           "zaxis": {
            "backgroundcolor": "#E5ECF6",
            "gridcolor": "white",
            "gridwidth": 2,
            "linecolor": "white",
            "showbackground": true,
            "ticks": "",
            "zerolinecolor": "white"
           }
          },
          "shapedefaults": {
           "line": {
            "color": "#2a3f5f"
           }
          },
          "ternary": {
           "aaxis": {
            "gridcolor": "white",
            "linecolor": "white",
            "ticks": ""
           },
           "baxis": {
            "gridcolor": "white",
            "linecolor": "white",
            "ticks": ""
           },
           "bgcolor": "#E5ECF6",
           "caxis": {
            "gridcolor": "white",
            "linecolor": "white",
            "ticks": ""
           }
          },
          "title": {
           "x": 0.05
          },
          "xaxis": {
           "automargin": true,
           "gridcolor": "white",
           "linecolor": "white",
           "ticks": "",
           "title": {
            "standoff": 15
           },
           "zerolinecolor": "white",
           "zerolinewidth": 2
          },
          "yaxis": {
           "automargin": true,
           "gridcolor": "white",
           "linecolor": "white",
           "ticks": "",
           "title": {
            "standoff": 15
           },
           "zerolinecolor": "white",
           "zerolinewidth": 2
          }
         }
        },
        "xaxis": {
         "anchor": "y",
         "domain": [
          0,
          1
         ],
         "title": {
          "text": "x"
         }
        },
        "yaxis": {
         "anchor": "x",
         "domain": [
          0,
          1
         ],
         "title": {
          "text": "Primary Energy (kWh)"
         }
        }
       }
      },
      "text/html": [
       "<div>                            <div id=\"b78ecd97-92c4-4af7-aecc-ee69b7c13b9d\" class=\"plotly-graph-div\" style=\"height:525px; width:100%;\"></div>            <script type=\"text/javascript\">                require([\"plotly\"], function(Plotly) {                    window.PLOTLYENV=window.PLOTLYENV || {};                                    if (document.getElementById(\"b78ecd97-92c4-4af7-aecc-ee69b7c13b9d\")) {                    Plotly.newPlot(                        \"b78ecd97-92c4-4af7-aecc-ee69b7c13b9d\",                        [{\"alignmentgroup\":\"True\",\"hovertemplate\":\"x=%{x}<br>Primary Energy (kWh)=%{marker.color}<extra></extra>\",\"legendgroup\":\"\",\"marker\":{\"color\":[178.0,89.0],\"coloraxis\":\"coloraxis\",\"pattern\":{\"shape\":\"\"}},\"name\":\"\",\"offsetgroup\":\"\",\"orientation\":\"v\",\"showlegend\":false,\"textposition\":\"auto\",\"x\":[\"Natural Gas plant\",\"Renewables\"],\"xaxis\":\"x\",\"y\":[178.0,89.0],\"yaxis\":\"y\",\"type\":\"bar\"}],                        {\"template\":{\"data\":{\"histogram2dcontour\":[{\"type\":\"histogram2dcontour\",\"colorbar\":{\"outlinewidth\":0,\"ticks\":\"\"},\"colorscale\":[[0.0,\"#0d0887\"],[0.1111111111111111,\"#46039f\"],[0.2222222222222222,\"#7201a8\"],[0.3333333333333333,\"#9c179e\"],[0.4444444444444444,\"#bd3786\"],[0.5555555555555556,\"#d8576b\"],[0.6666666666666666,\"#ed7953\"],[0.7777777777777778,\"#fb9f3a\"],[0.8888888888888888,\"#fdca26\"],[1.0,\"#f0f921\"]]}],\"choropleth\":[{\"type\":\"choropleth\",\"colorbar\":{\"outlinewidth\":0,\"ticks\":\"\"}}],\"histogram2d\":[{\"type\":\"histogram2d\",\"colorbar\":{\"outlinewidth\":0,\"ticks\":\"\"},\"colorscale\":[[0.0,\"#0d0887\"],[0.1111111111111111,\"#46039f\"],[0.2222222222222222,\"#7201a8\"],[0.3333333333333333,\"#9c179e\"],[0.4444444444444444,\"#bd3786\"],[0.5555555555555556,\"#d8576b\"],[0.6666666666666666,\"#ed7953\"],[0.7777777777777778,\"#fb9f3a\"],[0.8888888888888888,\"#fdca26\"],[1.0,\"#f0f921\"]]}],\"heatmap\":[{\"type\":\"heatmap\",\"colorbar\":{\"outlinewidth\":0,\"ticks\":\"\"},\"colorscale\":[[0.0,\"#0d0887\"],[0.1111111111111111,\"#46039f\"],[0.2222222222222222,\"#7201a8\"],[0.3333333333333333,\"#9c179e\"],[0.4444444444444444,\"#bd3786\"],[0.5555555555555556,\"#d8576b\"],[0.6666666666666666,\"#ed7953\"],[0.7777777777777778,\"#fb9f3a\"],[0.8888888888888888,\"#fdca26\"],[1.0,\"#f0f921\"]]}],\"heatmapgl\":[{\"type\":\"heatmapgl\",\"colorbar\":{\"outlinewidth\":0,\"ticks\":\"\"},\"colorscale\":[[0.0,\"#0d0887\"],[0.1111111111111111,\"#46039f\"],[0.2222222222222222,\"#7201a8\"],[0.3333333333333333,\"#9c179e\"],[0.4444444444444444,\"#bd3786\"],[0.5555555555555556,\"#d8576b\"],[0.6666666666666666,\"#ed7953\"],[0.7777777777777778,\"#fb9f3a\"],[0.8888888888888888,\"#fdca26\"],[1.0,\"#f0f921\"]]}],\"contourcarpet\":[{\"type\":\"contourcarpet\",\"colorbar\":{\"outlinewidth\":0,\"ticks\":\"\"}}],\"contour\":[{\"type\":\"contour\",\"colorbar\":{\"outlinewidth\":0,\"ticks\":\"\"},\"colorscale\":[[0.0,\"#0d0887\"],[0.1111111111111111,\"#46039f\"],[0.2222222222222222,\"#7201a8\"],[0.3333333333333333,\"#9c179e\"],[0.4444444444444444,\"#bd3786\"],[0.5555555555555556,\"#d8576b\"],[0.6666666666666666,\"#ed7953\"],[0.7777777777777778,\"#fb9f3a\"],[0.8888888888888888,\"#fdca26\"],[1.0,\"#f0f921\"]]}],\"surface\":[{\"type\":\"surface\",\"colorbar\":{\"outlinewidth\":0,\"ticks\":\"\"},\"colorscale\":[[0.0,\"#0d0887\"],[0.1111111111111111,\"#46039f\"],[0.2222222222222222,\"#7201a8\"],[0.3333333333333333,\"#9c179e\"],[0.4444444444444444,\"#bd3786\"],[0.5555555555555556,\"#d8576b\"],[0.6666666666666666,\"#ed7953\"],[0.7777777777777778,\"#fb9f3a\"],[0.8888888888888888,\"#fdca26\"],[1.0,\"#f0f921\"]]}],\"mesh3d\":[{\"type\":\"mesh3d\",\"colorbar\":{\"outlinewidth\":0,\"ticks\":\"\"}}],\"scatter\":[{\"fillpattern\":{\"fillmode\":\"overlay\",\"size\":10,\"solidity\":0.2},\"type\":\"scatter\"}],\"parcoords\":[{\"type\":\"parcoords\",\"line\":{\"colorbar\":{\"outlinewidth\":0,\"ticks\":\"\"}}}],\"scatterpolargl\":[{\"type\":\"scatterpolargl\",\"marker\":{\"colorbar\":{\"outlinewidth\":0,\"ticks\":\"\"}}}],\"bar\":[{\"error_x\":{\"color\":\"#2a3f5f\"},\"error_y\":{\"color\":\"#2a3f5f\"},\"marker\":{\"line\":{\"color\":\"#E5ECF6\",\"width\":0.5},\"pattern\":{\"fillmode\":\"overlay\",\"size\":10,\"solidity\":0.2}},\"type\":\"bar\"}],\"scattergeo\":[{\"type\":\"scattergeo\",\"marker\":{\"colorbar\":{\"outlinewidth\":0,\"ticks\":\"\"}}}],\"scatterpolar\":[{\"type\":\"scatterpolar\",\"marker\":{\"colorbar\":{\"outlinewidth\":0,\"ticks\":\"\"}}}],\"histogram\":[{\"marker\":{\"pattern\":{\"fillmode\":\"overlay\",\"size\":10,\"solidity\":0.2}},\"type\":\"histogram\"}],\"scattergl\":[{\"type\":\"scattergl\",\"marker\":{\"colorbar\":{\"outlinewidth\":0,\"ticks\":\"\"}}}],\"scatter3d\":[{\"type\":\"scatter3d\",\"line\":{\"colorbar\":{\"outlinewidth\":0,\"ticks\":\"\"}},\"marker\":{\"colorbar\":{\"outlinewidth\":0,\"ticks\":\"\"}}}],\"scattermapbox\":[{\"type\":\"scattermapbox\",\"marker\":{\"colorbar\":{\"outlinewidth\":0,\"ticks\":\"\"}}}],\"scatterternary\":[{\"type\":\"scatterternary\",\"marker\":{\"colorbar\":{\"outlinewidth\":0,\"ticks\":\"\"}}}],\"scattercarpet\":[{\"type\":\"scattercarpet\",\"marker\":{\"colorbar\":{\"outlinewidth\":0,\"ticks\":\"\"}}}],\"carpet\":[{\"aaxis\":{\"endlinecolor\":\"#2a3f5f\",\"gridcolor\":\"white\",\"linecolor\":\"white\",\"minorgridcolor\":\"white\",\"startlinecolor\":\"#2a3f5f\"},\"baxis\":{\"endlinecolor\":\"#2a3f5f\",\"gridcolor\":\"white\",\"linecolor\":\"white\",\"minorgridcolor\":\"white\",\"startlinecolor\":\"#2a3f5f\"},\"type\":\"carpet\"}],\"table\":[{\"cells\":{\"fill\":{\"color\":\"#EBF0F8\"},\"line\":{\"color\":\"white\"}},\"header\":{\"fill\":{\"color\":\"#C8D4E3\"},\"line\":{\"color\":\"white\"}},\"type\":\"table\"}],\"barpolar\":[{\"marker\":{\"line\":{\"color\":\"#E5ECF6\",\"width\":0.5},\"pattern\":{\"fillmode\":\"overlay\",\"size\":10,\"solidity\":0.2}},\"type\":\"barpolar\"}],\"pie\":[{\"automargin\":true,\"type\":\"pie\"}]},\"layout\":{\"autotypenumbers\":\"strict\",\"colorway\":[\"#636efa\",\"#EF553B\",\"#00cc96\",\"#ab63fa\",\"#FFA15A\",\"#19d3f3\",\"#FF6692\",\"#B6E880\",\"#FF97FF\",\"#FECB52\"],\"font\":{\"color\":\"#2a3f5f\"},\"hovermode\":\"closest\",\"hoverlabel\":{\"align\":\"left\"},\"paper_bgcolor\":\"white\",\"plot_bgcolor\":\"#E5ECF6\",\"polar\":{\"bgcolor\":\"#E5ECF6\",\"angularaxis\":{\"gridcolor\":\"white\",\"linecolor\":\"white\",\"ticks\":\"\"},\"radialaxis\":{\"gridcolor\":\"white\",\"linecolor\":\"white\",\"ticks\":\"\"}},\"ternary\":{\"bgcolor\":\"#E5ECF6\",\"aaxis\":{\"gridcolor\":\"white\",\"linecolor\":\"white\",\"ticks\":\"\"},\"baxis\":{\"gridcolor\":\"white\",\"linecolor\":\"white\",\"ticks\":\"\"},\"caxis\":{\"gridcolor\":\"white\",\"linecolor\":\"white\",\"ticks\":\"\"}},\"coloraxis\":{\"colorbar\":{\"outlinewidth\":0,\"ticks\":\"\"}},\"colorscale\":{\"sequential\":[[0.0,\"#0d0887\"],[0.1111111111111111,\"#46039f\"],[0.2222222222222222,\"#7201a8\"],[0.3333333333333333,\"#9c179e\"],[0.4444444444444444,\"#bd3786\"],[0.5555555555555556,\"#d8576b\"],[0.6666666666666666,\"#ed7953\"],[0.7777777777777778,\"#fb9f3a\"],[0.8888888888888888,\"#fdca26\"],[1.0,\"#f0f921\"]],\"sequentialminus\":[[0.0,\"#0d0887\"],[0.1111111111111111,\"#46039f\"],[0.2222222222222222,\"#7201a8\"],[0.3333333333333333,\"#9c179e\"],[0.4444444444444444,\"#bd3786\"],[0.5555555555555556,\"#d8576b\"],[0.6666666666666666,\"#ed7953\"],[0.7777777777777778,\"#fb9f3a\"],[0.8888888888888888,\"#fdca26\"],[1.0,\"#f0f921\"]],\"diverging\":[[0,\"#8e0152\"],[0.1,\"#c51b7d\"],[0.2,\"#de77ae\"],[0.3,\"#f1b6da\"],[0.4,\"#fde0ef\"],[0.5,\"#f7f7f7\"],[0.6,\"#e6f5d0\"],[0.7,\"#b8e186\"],[0.8,\"#7fbc41\"],[0.9,\"#4d9221\"],[1,\"#276419\"]]},\"xaxis\":{\"gridcolor\":\"white\",\"linecolor\":\"white\",\"ticks\":\"\",\"title\":{\"standoff\":15},\"zerolinecolor\":\"white\",\"automargin\":true,\"zerolinewidth\":2},\"yaxis\":{\"gridcolor\":\"white\",\"linecolor\":\"white\",\"ticks\":\"\",\"title\":{\"standoff\":15},\"zerolinecolor\":\"white\",\"automargin\":true,\"zerolinewidth\":2},\"scene\":{\"xaxis\":{\"backgroundcolor\":\"#E5ECF6\",\"gridcolor\":\"white\",\"linecolor\":\"white\",\"showbackground\":true,\"ticks\":\"\",\"zerolinecolor\":\"white\",\"gridwidth\":2},\"yaxis\":{\"backgroundcolor\":\"#E5ECF6\",\"gridcolor\":\"white\",\"linecolor\":\"white\",\"showbackground\":true,\"ticks\":\"\",\"zerolinecolor\":\"white\",\"gridwidth\":2},\"zaxis\":{\"backgroundcolor\":\"#E5ECF6\",\"gridcolor\":\"white\",\"linecolor\":\"white\",\"showbackground\":true,\"ticks\":\"\",\"zerolinecolor\":\"white\",\"gridwidth\":2}},\"shapedefaults\":{\"line\":{\"color\":\"#2a3f5f\"}},\"annotationdefaults\":{\"arrowcolor\":\"#2a3f5f\",\"arrowhead\":0,\"arrowwidth\":1},\"geo\":{\"bgcolor\":\"white\",\"landcolor\":\"#E5ECF6\",\"subunitcolor\":\"white\",\"showland\":true,\"showlakes\":true,\"lakecolor\":\"white\"},\"title\":{\"x\":0.05},\"mapbox\":{\"style\":\"light\"}}},\"xaxis\":{\"anchor\":\"y\",\"domain\":[0.0,1.0],\"title\":{\"text\":\"x\"}},\"yaxis\":{\"anchor\":\"x\",\"domain\":[0.0,1.0],\"title\":{\"text\":\"Primary Energy (kWh)\"}},\"coloraxis\":{\"colorbar\":{\"title\":{\"text\":\"Primary Energy (kWh)\"}},\"colorscale\":[[0.0,\"#0d0887\"],[0.1111111111111111,\"#46039f\"],[0.2222222222222222,\"#7201a8\"],[0.3333333333333333,\"#9c179e\"],[0.4444444444444444,\"#bd3786\"],[0.5555555555555556,\"#d8576b\"],[0.6666666666666666,\"#ed7953\"],[0.7777777777777778,\"#fb9f3a\"],[0.8888888888888888,\"#fdca26\"],[1.0,\"#f0f921\"]]},\"legend\":{\"tracegroupgap\":0},\"margin\":{\"t\":60},\"barmode\":\"relative\"},                        {\"responsive\": true}                    ).then(function(){\n",
       "                            \n",
       "var gd = document.getElementById('b78ecd97-92c4-4af7-aecc-ee69b7c13b9d');\n",
       "var x = new MutationObserver(function (mutations, observer) {{\n",
       "        var display = window.getComputedStyle(gd).display;\n",
       "        if (!display || display === 'none') {{\n",
       "            console.log([gd, 'removed!']);\n",
       "            Plotly.purge(gd);\n",
       "            observer.disconnect();\n",
       "        }}\n",
       "}});\n",
       "\n",
       "// Listen for the removal of the full notebook cells\n",
       "var notebookContainer = gd.closest('#notebook-container');\n",
       "if (notebookContainer) {{\n",
       "    x.observe(notebookContainer, {childList: true});\n",
       "}}\n",
       "\n",
       "// Listen for the clearing of the current output cell\n",
       "var outputEl = gd.closest('.output');\n",
       "if (outputEl) {{\n",
       "    x.observe(outputEl, {childList: true});\n",
       "}}\n",
       "\n",
       "                        })                };                });            </script>        </div>"
      ]
     },
     "metadata": {},
     "output_type": "display_data"
    }
   ],
   "source": [
    "import plotly.express as px\n",
    "fig = fig = px.bar(data_frame=bar_df.dropna(), x=bar_df.dropna().index, y = \"Primary Energy (kWh)\", color= \"Primary Energy (kWh)\", color_discrete_sequence=px.colors.sequential.Viridis)\n",
    "st.plotly_chart(fig)\n",
    "#fig.show()"
   ]
  },
  {
   "cell_type": "code",
   "execution_count": 277,
   "id": "68ae1142",
   "metadata": {},
   "outputs": [
    {
     "data": {
      "text/plain": [
       "'267'"
      ]
     },
     "execution_count": 277,
     "metadata": {},
     "output_type": "execute_result"
    }
   ],
   "source": [
    "str(int(bar_df.dropna().sum()))"
   ]
  },
  {
   "cell_type": "code",
   "execution_count": 278,
   "id": "57e9f908",
   "metadata": {},
   "outputs": [
    {
     "data": {
      "text/plain": [
       "DeltaGenerator(_root_container=0, _provided_cursor=None, _parent=None, _block_type=None, _form_data=None)"
      ]
     },
     "execution_count": 278,
     "metadata": {},
     "output_type": "execute_result"
    }
   ],
   "source": [
    "st.header(\"Primary total energy (kWh)\")\n",
    "st.metric(\"\", str(int(bar_df.dropna().sum())) + \" kWh\")"
   ]
  },
  {
   "cell_type": "code",
   "execution_count": null,
   "id": "c418f95d",
   "metadata": {},
   "outputs": [],
   "source": []
  }
 ],
 "metadata": {
  "kernelspec": {
   "display_name": "Python 3 (ipykernel)",
   "language": "python",
   "name": "python3"
  },
  "language_info": {
   "codemirror_mode": {
    "name": "ipython",
    "version": 3
   },
   "file_extension": ".py",
   "mimetype": "text/x-python",
   "name": "python",
   "nbconvert_exporter": "python",
   "pygments_lexer": "ipython3",
   "version": "3.9.13"
  }
 },
 "nbformat": 4,
 "nbformat_minor": 5
}
